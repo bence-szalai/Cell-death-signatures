{
 "cells": [
  {
   "cell_type": "code",
   "execution_count": 1,
   "metadata": {
    "collapsed": false,
    "deletable": true,
    "editable": true
   },
   "outputs": [
    {
     "name": "stderr",
     "output_type": "stream",
     "text": [
      "/Users/benceszalai/Library/Enthought/Canopy/edm/envs/Python3/lib/python3.5/site-packages/h5py/__init__.py:34: FutureWarning: Conversion of the second argument of issubdtype from `float` to `np.floating` is deprecated. In future, it will be treated as `np.float64 == np.dtype(float).type`.\n",
      "  from ._conv import register_converters as _register_converters\n"
     ]
    }
   ],
   "source": [
    "import pandas as pd\n",
    "import numpy as np\n",
    "from cmapPy.pandasGEXpress.parse import parse\n",
    "from scipy.stats import spearmanr as scor"
   ]
  },
  {
   "cell_type": "markdown",
   "metadata": {
    "collapsed": true,
    "deletable": true,
    "editable": true
   },
   "source": [
    "## At first we should get cell viabilities from CTRP data."
   ]
  },
  {
   "cell_type": "code",
   "execution_count": 2,
   "metadata": {
    "collapsed": false,
    "deletable": true,
    "editable": true
   },
   "outputs": [
    {
     "name": "stderr",
     "output_type": "stream",
     "text": [
      "/Users/benceszalai/Library/Enthought/Canopy/edm/envs/Python3/lib/python3.5/site-packages/ipykernel/__main__.py:3: FutureWarning: read_table is deprecated, use read_csv instead.\n",
      "  app.launch_new_instance()\n",
      "/Users/benceszalai/Library/Enthought/Canopy/edm/envs/Python3/lib/python3.5/site-packages/ipykernel/__main__.py:6: FutureWarning: read_table is deprecated, use read_csv instead.\n",
      "/Users/benceszalai/Library/Enthought/Canopy/edm/envs/Python3/lib/python3.5/site-packages/ipykernel/__main__.py:8: FutureWarning: read_table is deprecated, use read_csv instead.\n",
      "/Users/benceszalai/Library/Enthought/Canopy/edm/envs/Python3/lib/python3.5/site-packages/ipykernel/__main__.py:10: FutureWarning: read_table is deprecated, use read_csv instead.\n"
     ]
    }
   ],
   "source": [
    "# read raw CTRP cell viability data\n",
    "ctrp_raw=pd.read_table('../data/CTRP/v20.data.per_cpd_post_qc.txt',\n",
    "                       sep='\\t',header=0,index_col=None)\n",
    "#read CTRP metadata\n",
    "cell_info=pd.read_table('../data/CTRP/v20.meta.per_cell_line.txt',\n",
    "                        sep='\\t',header=0,index_col=None)\n",
    "compound_info=pd.read_table('../data/CTRP/v20.meta.per_compound.txt',\n",
    "                            sep='\\t',header=0,index_col=None)\n",
    "experiment_info=pd.read_table('../data/CTRP/v20.meta.per_experiment.txt',\n",
    "                              sep='\\t',header=0,index_col=None)"
   ]
  },
  {
   "cell_type": "code",
   "execution_count": 3,
   "metadata": {
    "collapsed": false,
    "deletable": true,
    "editable": true
   },
   "outputs": [
    {
     "name": "stdout",
     "output_type": "stream",
     "text": [
      "Preprocessing CTRP.......\n",
      "Done!\n"
     ]
    }
   ],
   "source": [
    "#using information from metadata we prepocess CTRP data\n",
    "#to have usable format to match with LINCS\n",
    "ctrp_proc=ctrp_raw.loc[:,['experiment_id','master_cpd_id',\n",
    "                          'cpd_conc_umol','cpd_avg_pv']].copy()\n",
    "print('Preprocessing CTRP',end='')\n",
    "experiment_info=experiment_info.drop_duplicates(['experiment_id',\n",
    "                                                 'master_ccl_id'])\n",
    "print('.',end='')\n",
    "experiment_info.index=experiment_info['experiment_id']\n",
    "print('.',end='')\n",
    "ctrp_proc['master_ccl_id']=experiment_info.loc[ctrp_proc['experiment_id'].values,\n",
    "                                               'master_ccl_id'].values\n",
    "print('.',end='')\n",
    "cell_info.index=cell_info['master_ccl_id']\n",
    "print('.',end='')\n",
    "ctrp_proc['ccl_name']=cell_info.loc[ctrp_proc['master_ccl_id'].values,\n",
    "                                    'ccl_name'].values\n",
    "print('.',end='')\n",
    "compound_info.index=compound_info['master_cpd_id']\n",
    "print('.',end='')\n",
    "ctrp_proc['broad_cpd_id']=compound_info.loc[ctrp_proc['master_cpd_id'].values,\n",
    "                                            'broad_cpd_id'].values\n",
    "print('.')\n",
    "ctrp_proc=ctrp_proc.loc[:,['ccl_name','broad_cpd_id',\n",
    "                           'cpd_conc_umol','cpd_avg_pv']]\n",
    "print('Done!')"
   ]
  },
  {
   "cell_type": "markdown",
   "metadata": {
    "deletable": true,
    "editable": true
   },
   "source": [
    "Now we have a dataframe with Cell lines, Compound IDs, Compound concentrations and Cell viabilities as columns"
   ]
  },
  {
   "cell_type": "code",
   "execution_count": 4,
   "metadata": {
    "collapsed": false,
    "deletable": true,
    "editable": true
   },
   "outputs": [
    {
     "name": "stdout",
     "output_type": "stream",
     "text": [
      "  ccl_name   broad_cpd_id  cpd_conc_umol  cpd_avg_pv\n",
      "0     CAS1  BRD-K46556387        0.00030      0.9303\n",
      "1     CAS1  BRD-K46556387        0.00061      0.8337\n",
      "2     CAS1  BRD-K46556387        0.00120      1.0460\n",
      "3     CAS1  BRD-K46556387        0.00240      1.0910\n",
      "4     CAS1  BRD-K46556387        0.00490      1.0190\n",
      "Shape: (6171005, 4)\n"
     ]
    }
   ],
   "source": [
    "print(ctrp_proc.head())\n",
    "print('Shape:',ctrp_proc.shape)"
   ]
  },
  {
   "cell_type": "markdown",
   "metadata": {
    "deletable": true,
    "editable": true
   },
   "source": [
    "Now we can read some  metadata, to select the intersection (same cell line, compound) between LINCS-L1000 and CTRP."
   ]
  },
  {
   "cell_type": "code",
   "execution_count": 17,
   "metadata": {
    "collapsed": false,
    "deletable": true,
    "editable": true
   },
   "outputs": [
    {
     "name": "stderr",
     "output_type": "stream",
     "text": [
      "/Users/benceszalai/Library/Enthought/Canopy/edm/envs/Python3/lib/python3.5/site-packages/ipykernel/__main__.py:3: FutureWarning: read_table is deprecated, use read_csv instead.\n",
      "  app.launch_new_instance()\n",
      "/Users/benceszalai/Library/Enthought/Canopy/edm/envs/Python3/lib/python3.5/site-packages/ipykernel/__main__.py:6: FutureWarning: read_table is deprecated, use read_csv instead.\n",
      "/Users/benceszalai/Library/Enthought/Canopy/edm/envs/Python3/lib/python3.5/site-packages/ipykernel/__main__.py:8: FutureWarning: read_table is deprecated, use read_csv instead.\n"
     ]
    }
   ],
   "source": [
    "#cell line metadata is same for gse92742 and gse70138\n",
    "gse92742_cell=pd.read_table('../data/LINCS/GSE70138/GSE92742_Broad_LINCS_cell_info.txt',\n",
    "                            sep='\\t',header=0,index_col=None) \n",
    "lincs_cells=list(set(gse92742_cell['cell_id'])&set(ctrp_proc['ccl_name']))\n",
    "gse92742_comp=pd.read_table('../data/LINCS/GSE92742/GSE92742_Broad_LINCS_pert_info.txt',\n",
    "                            sep='\\t',header=0,index_col=None)\n",
    "gse70138_comp=pd.read_table('../data/LINCS/GSE70138/GSE70138_Broad_LINCS_pert_info.txt',\n",
    "                            sep='\\t',header=0,index_col=None)\n",
    "lincs_compounds=list((set(gse92742_comp['pert_id'])|set(gse70138_comp['pert_id']))&set(ctrp_proc['broad_cpd_id']))"
   ]
  },
  {
   "cell_type": "code",
   "execution_count": 18,
   "metadata": {
    "collapsed": false
   },
   "outputs": [
    {
     "data": {
      "text/plain": [
       "194713     BRD-K86574132\n",
       "194714     BRD-K86574132\n",
       "194715     BRD-K86574132\n",
       "194716     BRD-K86574132\n",
       "194717     BRD-K86574132\n",
       "194718     BRD-K86574132\n",
       "194719     BRD-K86574132\n",
       "194720     BRD-K86574132\n",
       "194721     BRD-K86574132\n",
       "194722     BRD-K86574132\n",
       "194723     BRD-K86574132\n",
       "194724     BRD-K86574132\n",
       "194725     BRD-K86574132\n",
       "194726     BRD-K86574132\n",
       "194727     BRD-K86574132\n",
       "194728     BRD-K86574132\n",
       "194729     BRD-K35716340\n",
       "194730     BRD-K35716340\n",
       "194731     BRD-K35716340\n",
       "194732     BRD-K35716340\n",
       "194733     BRD-K35716340\n",
       "194734     BRD-K35716340\n",
       "194735     BRD-K35716340\n",
       "194736     BRD-K35716340\n",
       "194737     BRD-K35716340\n",
       "194738     BRD-K35716340\n",
       "194739     BRD-K35716340\n",
       "194740     BRD-K35716340\n",
       "194741     BRD-K35716340\n",
       "194742     BRD-K35716340\n",
       "               ...      \n",
       "5876704    BRD-A15100685\n",
       "5876705    BRD-A15100685\n",
       "5876706    BRD-A15100685\n",
       "5876707    BRD-A15100685\n",
       "5876708    BRD-A15100685\n",
       "5876709    BRD-A15100685\n",
       "5876710    BRD-A15100685\n",
       "5876711    BRD-A15100685\n",
       "5876712    BRD-A15100685\n",
       "5876713    BRD-A15100685\n",
       "5876714    BRD-A15100685\n",
       "5876715    BRD-A15100685\n",
       "5876716    BRD-A15100685\n",
       "5876717    BRD-A15100685\n",
       "5876718    BRD-A15100685\n",
       "5876751    BRD-K08589866\n",
       "5876752    BRD-K08589866\n",
       "5876753    BRD-K08589866\n",
       "5876754    BRD-K08589866\n",
       "5876755    BRD-K08589866\n",
       "5876756    BRD-K08589866\n",
       "5876757    BRD-K08589866\n",
       "5876758    BRD-K08589866\n",
       "5876759    BRD-K08589866\n",
       "5876760    BRD-K08589866\n",
       "5876761    BRD-K08589866\n",
       "5876762    BRD-K08589866\n",
       "5876763    BRD-K08589866\n",
       "5876764    BRD-K08589866\n",
       "5876765    BRD-K08589866\n",
       "Name: broad_cpd_id, Length: 238005, dtype: object"
      ]
     },
     "execution_count": 18,
     "metadata": {},
     "output_type": "execute_result"
    }
   ],
   "source": [
    "ctrp_proc['broad_cpd_id']"
   ]
  },
  {
   "cell_type": "code",
   "execution_count": 19,
   "metadata": {
    "collapsed": false,
    "deletable": true,
    "editable": true
   },
   "outputs": [
    {
     "name": "stdout",
     "output_type": "stream",
     "text": [
      "Shape: (238005, 4)\n"
     ]
    }
   ],
   "source": [
    "#we select data from ctrp with lincs cell lines and compounds\n",
    "fil=np.in1d(ctrp_proc['ccl_name'],lincs_cells)&np.in1d(ctrp_proc['broad_cpd_id'],lincs_compounds)\n",
    "ctrp_proc=ctrp_proc[fil]\n",
    "print('Shape:',ctrp_proc.shape)"
   ]
  },
  {
   "cell_type": "markdown",
   "metadata": {
    "deletable": true,
    "editable": true
   },
   "source": [
    "For duplicated entries in CTRP (same cell line, same drug, same concentraion) we calculate and keep average cell viability (of course, being duplicated for floats like concentrations is a bit complicated, but here we want only to remove real duplicated elements). "
   ]
  },
  {
   "cell_type": "code",
   "execution_count": 58,
   "metadata": {
    "collapsed": false,
    "deletable": true,
    "editable": true
   },
   "outputs": [
    {
     "name": "stdout",
     "output_type": "stream",
     "text": [
      "Shape: (221306, 4)\n"
     ]
    }
   ],
   "source": [
    "ctrp_proc=ctrp_proc.groupby(['ccl_name','broad_cpd_id','cpd_conc_umol']).mean()\n",
    "ctrp_proc.reset_index(inplace=True)\n",
    "print('Shape:',ctrp_proc.shape)\n",
    "ctrp_proc.to_csv('../results/CTRP/cell_viability_ctrp.csv',sep=',')"
   ]
  },
  {
   "cell_type": "markdown",
   "metadata": {
    "deletable": true,
    "editable": true
   },
   "source": [
    "## Now we can match CTRP and LINCS-L1000\n",
    "We will match CTRP and LINCS-L1000 instances based on cell line, drug and concentration. As the concentrations in CTRP and LINCS-L1000 are not the same, we will accept match LINCS-L1000 with the CTRP instance with the closest concentration (and same cell line and drug), as far as the absolute log10 concentration difference is smaller than 0.2 (~1.5 fold concetration difference)."
   ]
  },
  {
   "cell_type": "code",
   "execution_count": 59,
   "metadata": {
    "collapsed": true,
    "deletable": true,
    "editable": true
   },
   "outputs": [],
   "source": [
    "def get_closest_cc_ctrp(l1000):\n",
    "    \"\"\"Selects the closest concentration instance from CTRP\n",
    "    for a given L1000 instance, uses ctrp global variable CTRP\"\"\"\n",
    "    fil=(CTRP['broad_cpd_id']==l1000['pert_id']) & (CTRP['ccl_name']==l1000['cell_id'])\n",
    "    if np.sum(fil)>0:\n",
    "        ctrp_temp=CTRP[fil].copy()\n",
    "        ctrp_temp['delta_cc']=np.abs(ctrp_temp['log10_cpd_conc_umol']-l1000['log10_pert_dose'])\n",
    "        j=ctrp_temp.sort_values('delta_cc').index[0]\n",
    "        return ctrp_temp.loc[j,['cpd_avg_pv','log10_cpd_conc_umol']]\n",
    "    else:\n",
    "        return np.nan"
   ]
  },
  {
   "cell_type": "code",
   "execution_count": 60,
   "metadata": {
    "collapsed": false,
    "deletable": true,
    "editable": true
   },
   "outputs": [
    {
     "name": "stdout",
     "output_type": "stream",
     "text": [
      "Shape GSE92742 sig_info: (473647, 12)\n",
      "Shape GSE70138 sig_info: (118050, 8)\n"
     ]
    }
   ],
   "source": [
    "# just read data\n",
    "CTRP=pd.read_table('../results/CTRP/cell_viability_ctrp.csv',sep=',',\n",
    "                       header=0,index_col=[0])\n",
    "CTRP['log10_cpd_conc_umol']=np.log10(CTRP['cpd_conc_umol'])\n",
    "cell_lines=list(set(CTRP['ccl_name']))\n",
    "compounds=list(set(CTRP['broad_cpd_id']))\n",
    "#read lincs metadata\n",
    "sig_info_gse92742=pd.read_table('../data/LINCS/GSE92742/GSE92742_Broad_LINCS_sig_info.txt',\n",
    "                                sep='\\t',header=0,index_col=None,low_memory=False)\n",
    "sig_info_gse70138=pd.read_table('../data/LINCS/GSE70138/GSE70138_Broad_LINCS_sig_info.txt',\n",
    "                                sep='\\t',header=0,index_col=None,low_memory=False)\n",
    "print('Shape GSE92742 sig_info:',sig_info_gse92742.shape)\n",
    "print('Shape GSE70138 sig_info:',sig_info_gse70138.shape)"
   ]
  },
  {
   "cell_type": "code",
   "execution_count": 61,
   "metadata": {
    "collapsed": false,
    "deletable": true,
    "editable": true
   },
   "outputs": [
    {
     "name": "stdout",
     "output_type": "stream",
     "text": [
      "Shape GSE92742 sig_info: (16010, 12)\n",
      "Shape GSE70138 sig_info: (12693, 8)\n"
     ]
    }
   ],
   "source": [
    "#filter for cell line and compound intersection with ctrp\n",
    "fil=np.in1d(sig_info_gse92742['pert_id'],compounds) & np.in1d(sig_info_gse92742['cell_id'],cell_lines)\n",
    "sig_info_gse92742=sig_info_gse92742[fil]    \n",
    "fil=np.in1d(sig_info_gse70138['pert_id'],compounds) & np.in1d(sig_info_gse70138['cell_id'],cell_lines)    \n",
    "sig_info_gse70138=sig_info_gse70138[fil]\n",
    "print('Shape GSE92742 sig_info:',sig_info_gse92742.shape)\n",
    "print('Shape GSE70138 sig_info:',sig_info_gse70138.shape)"
   ]
  },
  {
   "cell_type": "code",
   "execution_count": 62,
   "metadata": {
    "collapsed": false,
    "deletable": true,
    "editable": true
   },
   "outputs": [],
   "source": [
    "#for matching we use log10 concentration, we start with gse92742\n",
    "assert len(set(sig_info_gse92742['pert_dose_unit']))==1 #all doses are in uM\n",
    "sig_info_gse92742['pert_dose']=sig_info_gse92742['pert_dose'].astype(float)\n",
    "fil=sig_info_gse92742['pert_dose']!=0.0 #remove 0 concentration instances\n",
    "sig_info_gse92742=sig_info_gse92742[fil]\n",
    "sig_info_gse92742['log10_pert_dose']=np.log10(sig_info_gse92742['pert_dose'].astype(float))"
   ]
  },
  {
   "cell_type": "code",
   "execution_count": 63,
   "metadata": {
    "collapsed": false,
    "deletable": true,
    "editable": true
   },
   "outputs": [],
   "source": [
    "#takes some time\n",
    "sig_info_gse92742_nearest=sig_info_gse92742.apply(get_closest_cc_ctrp,axis=1)\n",
    "sig_info_gse92742=pd.concat([sig_info_gse92742,sig_info_gse92742_nearest],1)\n",
    "fil=~pd.isnull(sig_info_gse92742['cpd_avg_pv'])\n",
    "sig_info_gse92742=sig_info_gse92742[fil]\n",
    "sig_info_gse92742.to_csv('../results/CTRP/sig_info_gse92742_viab.csv')"
   ]
  },
  {
   "cell_type": "code",
   "execution_count": 64,
   "metadata": {
    "collapsed": false,
    "deletable": true,
    "editable": true
   },
   "outputs": [],
   "source": [
    "#let's do this with gse70138, gse70138 does not have pert_dose and pert_dose unit\n",
    "#only pert_idose, which is a string like '10.0 um'\n",
    "sig_info_gse70138['pert_dose']=sig_info_gse70138['pert_idose'].apply(lambda x:float(x.split()[0]))\n",
    "sig_info_gse70138['pert_dose_unit']=sig_info_gse70138['pert_idose'].apply(lambda x:x.split()[1])\n",
    "assert len(set(sig_info_gse70138['pert_dose_unit']))==1 #all doses are in um\n",
    "#remove 0 and log transform\n",
    "fil=sig_info_gse70138['pert_dose']!=0.0 #remove 0 concentration instances\n",
    "sig_info_gse70138=sig_info_gse70138[fil]\n",
    "sig_info_gse70138['log10_pert_dose']=np.log10(sig_info_gse70138['pert_dose'].astype(float))"
   ]
  },
  {
   "cell_type": "code",
   "execution_count": 65,
   "metadata": {
    "collapsed": false,
    "deletable": true,
    "editable": true
   },
   "outputs": [],
   "source": [
    "#takes some time\n",
    "sig_info_gse70138_nearest=sig_info_gse70138.apply(get_closest_cc_ctrp,axis=1)\n",
    "sig_info_gse70138=pd.concat([sig_info_gse70138,sig_info_gse70138_nearest],1)\n",
    "fil=~pd.isnull(sig_info_gse70138['cpd_avg_pv'])\n",
    "sig_info_gse70138=sig_info_gse70138[fil]\n",
    "sig_info_gse70138.to_csv('../results/CTRP/sig_info_gse70138_viab.csv')"
   ]
  },
  {
   "cell_type": "markdown",
   "metadata": {
    "deletable": true,
    "editable": true
   },
   "source": [
    "Now we can read the corresponding gene expression signatures. We will only work with the actual measured (landmark) genes. If you are interested for the infered genes also (bing), you can selecte the genes with *pr_is_bing* (marked with comment). "
   ]
  },
  {
   "cell_type": "code",
   "execution_count": 18,
   "metadata": {
    "collapsed": false,
    "deletable": true,
    "editable": true
   },
   "outputs": [],
   "source": [
    "#also takes some time\n",
    "sig_info_gse92742=pd.read_table('../results/CTRP/sig_info_gse92742_viab.csv',\n",
    "                                sep=',',header=0,index_col=[0])\n",
    "sig_info_gse70138=pd.read_table('../results/CTRP/sig_info_gse70138_viab.csv',\n",
    "                                sep=',',header=0,index_col=[0])\n",
    "sig_ids_gse70138=list(sig_info_gse70138['sig_id'])\n",
    "sig_ids_gse92742=list(sig_info_gse92742['sig_id'])\n",
    "gene_info=pd.read_table('../data/LINCS/GSE92742/GSE92742_Broad_LINCS_gene_info.txt',sep='\\t')\n",
    "fil=gene_info['pr_is_lm']==1 # change the columns name to pr_is_bing if you are interested for all genes\n",
    "gene_ids = list(gene_info.loc[gene_info.index[fil],'pr_gene_id'].astype(str))\n",
    "signatures_gse92742=parse('../data/LINCS/GSE92742/GSE92742_Broad_LINCS_Level5_COMPZ.MODZ_n473647x12328.gctx', \n",
    "                          cid=sig_ids_gse92742,rid=gene_ids)\n",
    "signatures_gse92742=signatures_gse92742.data_df.T\n",
    "signatures_gse70138=parse('../data/LINCS/GSE70138/GSE70138_Broad_LINCS_Level5_COMPZ_n118050x12328.gctx',\n",
    "                          cid=sig_ids_gse70138,rid=gene_ids)\n",
    "signatures_gse70138=signatures_gse70138.data_df.T\n",
    "signatures_gse70138.to_csv('../results/CTRP/signatures_gse70138_lm.csv',sep=',')\n",
    "signatures_gse92742.to_csv('../results/CTRP/signatures_gse92742_lm.csv',sep=',')"
   ]
  },
  {
   "cell_type": "markdown",
   "metadata": {
    "deletable": true,
    "editable": true
   },
   "source": [
    "Finally, we can merge our data regarding GSE70138 and GSE92742, and we are ready with the CTRP preprocessing step."
   ]
  },
  {
   "cell_type": "code",
   "execution_count": 91,
   "metadata": {
    "collapsed": false,
    "deletable": true,
    "editable": true
   },
   "outputs": [],
   "source": [
    "#merge sig info files\n",
    "sig_info_gse92742=pd.read_table('../results/CTRP/sig_info_gse92742_viab.csv',\n",
    "                                sep=',',header=0,index_col=[0])\n",
    "sig_info_gse70138=pd.read_table('../results/CTRP/sig_info_gse70138_viab.csv',\n",
    "                                sep=',',header=0,index_col=[0])\n",
    "\n",
    "sig_info_gse92742.index=sig_info_gse92742['sig_id']\n",
    "sig_info_gse92742=sig_info_gse92742.loc[:,['pert_id','cell_id','pert_iname',\n",
    "                                            'log10_pert_dose','pert_itime',\n",
    "                                           'log10_cpd_conc_umol','cpd_avg_pv']]\n",
    "fil=np.abs(sig_info_gse92742['log10_pert_dose']-sig_info_gse92742['log10_cpd_conc_umol'])<0.2\n",
    "sig_info_gse92742=sig_info_gse92742[fil]\n",
    "    \n",
    "sig_info_gse70138.index=sig_info_gse70138['sig_id']\n",
    "sig_info_gse70138=sig_info_gse70138.loc[:,['pert_id','cell_id','pert_iname',\n",
    "                                           'log10_pert_dose','pert_itime',\n",
    "                                           'log10_cpd_conc_umol','cpd_avg_pv']]\n",
    "fil=np.abs(sig_info_gse70138['log10_pert_dose']-sig_info_gse70138['log10_cpd_conc_umol'])<0.2\n",
    "sig_info_gse70138=sig_info_gse70138[fil]\n",
    "\n",
    "sig_info_l1000_ctrp=pd.concat([sig_info_gse92742,sig_info_gse70138],0)\n",
    "sig_info_l1000_ctrp.to_csv('../results/CTRP/sig_info_ctrp_full.csv',sep=',')"
   ]
  },
  {
   "cell_type": "code",
   "execution_count": 59,
   "metadata": {
    "collapsed": true,
    "deletable": true,
    "editable": true
   },
   "outputs": [],
   "source": [
    "sig_info_l1000_ctrp=pd.read_csv('../results/CTRP/sig_info_ctrp_full.csv',sep=',',header=0,index_col=0)"
   ]
  },
  {
   "cell_type": "code",
   "execution_count": 60,
   "metadata": {
    "collapsed": false,
    "deletable": true,
    "editable": true
   },
   "outputs": [
    {
     "name": "stderr",
     "output_type": "stream",
     "text": [
      "/Users/benceszalai/Library/Enthought/Canopy/edm/envs/DeepLearningStart/lib/python3.5/site-packages/ipykernel/__main__.py:3: FutureWarning: read_table is deprecated, use read_csv instead.\n",
      "  app.launch_new_instance()\n",
      "/Users/benceszalai/Library/Enthought/Canopy/edm/envs/DeepLearningStart/lib/python3.5/site-packages/ipykernel/__main__.py:5: FutureWarning: read_table is deprecated, use read_csv instead.\n"
     ]
    }
   ],
   "source": [
    "#merge signature files\n",
    "signatures_gse92742=pd.read_table('../results/CTRP/signatures_gse92742_lm.csv',\n",
    "                                  sep=',',header=0,index_col=[0])\n",
    "signatures_gse70138=pd.read_table('../results/CTRP/signatures_gse70138_lm.csv',\n",
    "                                  sep=',',header=0,index_col=[0])\n",
    "#be sure that genes are in the same order in the two signature files\n",
    "signatures_gse70138=signatures_gse70138.loc[:,signatures_gse92742.columns]\n",
    "\n",
    "signatures_l1000_ctrp=pd.concat([signatures_gse92742,signatures_gse70138],0)\n",
    "#be sure that experiments are in the same order than in the sig_info file\n",
    "signatures_l1000_ctrp=signatures_l1000_ctrp.loc[sig_info_l1000_ctrp.index,:]"
   ]
  },
  {
   "cell_type": "code",
   "execution_count": 61,
   "metadata": {
    "collapsed": false,
    "deletable": true,
    "editable": true
   },
   "outputs": [],
   "source": [
    "# we will merge duplicate entires of signatures using the MODZ method \n",
    "# describen in the original CMAP/L1000 study\n",
    "def calc_MODZ(data):\n",
    "    \"\"\"calculates MODZ based on the original CMAP/L1000 study\n",
    "    use only lm genes for MODZ calculation! Uses LM_GENES global\n",
    "    variable.\"\"\"\n",
    "    if len(data)==1:\n",
    "        return data[LM_GENES].iloc[0]\n",
    "    if len(data)==2:\n",
    "        return np.mean(data[LM_GENES],0)\n",
    "    else:\n",
    "        CM=scor(data[LM_GENES].T)[0]\n",
    "        fil=CM<0\n",
    "        CM[fil]=0.01\n",
    "        weights=np.sum(CM,1)-1\n",
    "        weights=weights/np.sum(weights)\n",
    "        weights=weights.reshape((-1,1))\n",
    "        return pd.Series(np.dot(data[LM_GENES].T,weights).reshape((-1,1)[0]),index=data[LM_GENES].columns)"
   ]
  },
  {
   "cell_type": "code",
   "execution_count": 62,
   "metadata": {
    "collapsed": false,
    "deletable": true,
    "editable": true
   },
   "outputs": [
    {
     "name": "stderr",
     "output_type": "stream",
     "text": [
      "/Users/benceszalai/Library/Enthought/Canopy/edm/envs/DeepLearningStart/lib/python3.5/site-packages/ipykernel/__main__.py:2: FutureWarning: read_table is deprecated, use read_csv instead.\n",
      "  from ipykernel import kernelapp as app\n"
     ]
    }
   ],
   "source": [
    "#we use only landmark genes for MODZ calculation\n",
    "gene_info=pd.read_table('../data/LINCS/GSE92742/GSE92742_Broad_LINCS_gene_info.txt',sep='\\t')\n",
    "fil=gene_info['pr_is_lm']==1\n",
    "LM_GENES = list(gene_info.loc[gene_info.index[fil],'pr_gene_id'].astype(str))\n",
    "signatures_l1000_ctrp[['pert_id','cell_id','log10_pert_dose','pert_itime']]=\\\n",
    "    sig_info_l1000_ctrp[['pert_id','cell_id','log10_pert_dose','pert_itime']]\n",
    "signatures_l1000_ctrp=signatures_l1000_ctrp.groupby(['pert_id','cell_id',\n",
    "                                                     'log10_pert_dose',\n",
    "                                                     'pert_itime']).apply(calc_MODZ)"
   ]
  },
  {
   "cell_type": "code",
   "execution_count": 22,
   "metadata": {
    "collapsed": false,
    "deletable": true,
    "editable": true
   },
   "outputs": [],
   "source": [
    "sig_info_l1000_ctrp=sig_info_l1000_ctrp.drop_duplicates(['pert_id','cell_id','log10_pert_dose','pert_itime'])\n",
    "sig_info_l1000_ctrp=sig_info_l1000_ctrp.sort_values(['pert_id','cell_id','log10_pert_dose','pert_itime'])\n",
    "signatures_l1000_ctrp.index=sig_info_l1000_ctrp.index\n",
    "signatures_l1000_ctrp.to_csv('../results/CTRP/signatures_merged_lm.csv',sep=',')\n",
    "sig_info_l1000_ctrp.to_csv('../results/CTRP/sig_info_merged_lm.csv',sep=',')"
   ]
  },
  {
   "cell_type": "markdown",
   "metadata": {
    "deletable": true,
    "editable": true
   },
   "source": [
    "We are done with CTRP preprocessing\n",
    "## We can continoue with matching shRNA abundance data from Achilles\n",
    "At first we will merge the two different versions of Achilles dataset we will use.\n"
   ]
  },
  {
   "cell_type": "code",
   "execution_count": 71,
   "metadata": {
    "collapsed": false,
    "deletable": true,
    "editable": true
   },
   "outputs": [],
   "source": [
    "achilles204=pd.read_table('../data/Achilles/Achilles_v2.4.6.rnai.gct',\n",
    "                           sep='\\t',header=0,index_col=[0],skiprows=2)\n",
    "achilles218=pd.read_table('../data/Achilles/achilles-v2-19-2-mapped-rnai_v1-data.gct',\n",
    "                          sep='\\t',header=0,index_col=[0],skiprows=2)\n",
    "#remove tissue type from columns, keep only cell line\n",
    "achilles204.columns=pd.Series(achilles204.columns).apply(lambda x: x.split('_')[0]).values\n",
    "achilles218.columns=pd.Series(achilles218.columns).apply(lambda x: x.split('_')[0]).values\n",
    "#remove Description columns\n",
    "del achilles204['Description']\n",
    "del achilles218['Description']\n",
    "shRNAs=list(set(achilles204.index)|set(achilles218.index))\n",
    "cells=list(set(achilles204.columns)|set(achilles218.columns))\n",
    "achilles_merged=pd.DataFrame(index=shRNAs,columns=cells)\n",
    "achilles_merged.loc[achilles204.index,achilles204.columns]=achilles204\n",
    "achilles_merged.loc[achilles218.index,achilles218.columns]=achilles218\n",
    "achilles_merged.to_csv('../results/Achilles/achilles_merged.csv',sep=',')"
   ]
  },
  {
   "cell_type": "markdown",
   "metadata": {
    "deletable": true,
    "editable": true
   },
   "source": [
    "Now we select the corresponding cell lines / shRNAs from Achilles and LINCS-L1000."
   ]
  },
  {
   "cell_type": "code",
   "execution_count": 3,
   "metadata": {
    "collapsed": false,
    "deletable": true,
    "editable": true
   },
   "outputs": [],
   "source": [
    "achilles_merged=pd.read_table('../results/Achilles/achilles_merged.csv',\n",
    "                              sep=',',header=0,index_col=[0])\n",
    "sig_info = pd.read_csv('../data/LINCS/GSE92742/GSE92742_Broad_LINCS_sig_info.txt',\n",
    "                       low_memory=False,sep='\\t',header=0,index_col=None)\n",
    "fil=sig_info['pert_type']=='trt_sh'\n",
    "sig_info=sig_info[fil]\n",
    "#selecting common cell lines\n",
    "cells=list(set(achilles_merged.columns)&set(sig_info['cell_id']))\n",
    "achilles_merged=achilles_merged[cells]\n",
    "fil=np.in1d(sig_info['cell_id'],cells)\n",
    "sig_info=sig_info[fil]"
   ]
  },
  {
   "cell_type": "markdown",
   "metadata": {
    "deletable": true,
    "editable": true
   },
   "source": [
    "And match instances between Achilles and LINCS-L1000."
   ]
  },
  {
   "cell_type": "code",
   "execution_count": 4,
   "metadata": {
    "collapsed": false,
    "deletable": true,
    "editable": true
   },
   "outputs": [],
   "source": [
    "#matching shRNAs between achilles and lincs-l1000\n",
    "achilles_merged['Sequence']=pd.Series(achilles_merged.index).apply(lambda x:x.split('_')[0]).values\n",
    "achilles_merged=achilles_merged.drop_duplicates('Sequence') #we drop same sequence shRNAs\n",
    "sequence_anno55k=pd.read_table('../data/Achilles/CP0001_reference_20150109.csv',\n",
    "                               sep=',',header=None,index_col=None)\n",
    "sequence_anno55k.columns=['Barcode','ID','Target']\n",
    "sequence_anno90k=pd.read_table('../data/Achilles/CP0003_reference_20150109.csv',\n",
    "                               sep=',',header=None,index_col=None)\n",
    "sequence_anno90k.columns=['Barcode','ID','Target']\n",
    "sequence_anno=pd.concat([sequence_anno55k,sequence_anno90k])\n",
    "sequence_anno.index=range(len(sequence_anno.index))\n",
    "sequence_anno=sequence_anno.drop_duplicates('ID')\n",
    "#achilles uses barcode\n",
    "fil=np.in1d(achilles_merged['Sequence'],sequence_anno['Barcode'])\n",
    "achilles_merged=achilles_merged[fil]\n",
    "#lincs uses ID\n",
    "fil=np.in1d(sig_info['pert_id'],sequence_anno['ID'])\n",
    "sig_info=sig_info[fil]\n",
    "#match achilles and LINCS\n",
    "sequence_anno.index=sequence_anno['ID'].values\n",
    "sig_info['Barcode']=sequence_anno.loc[sig_info['pert_id'].values,'Barcode'].values\n",
    "sig_info['shRNA_abundance']=np.nan\n",
    "achilles_merged=pd.melt(achilles_merged,id_vars=['Sequence'],\n",
    "                        value_vars=achilles_merged.columns[:-1])\n",
    "achilles_merged.columns=['Sequence','Cell_line','shRNA_abundance']\n",
    "fil=~pd.isnull(achilles_merged['shRNA_abundance']) #remove shRNA - cell pairs with no measured viaiblity\n",
    "achilles_merged=achilles_merged[fil]\n",
    "sig_info['Barcode_Cell']=sig_info['Barcode']+'_'+sig_info['cell_id']\n",
    "achilles_merged['Barcode_Cell']=achilles_merged['Sequence']+'_'+achilles_merged['Cell_line']\n",
    "#keep only shRNA - cell line pairs, which are present in both datasets\n",
    "barcode_cells=list(set(achilles_merged['Barcode_Cell'])&set(sig_info['Barcode_Cell']))\n",
    "fil=np.in1d(achilles_merged['Barcode_Cell'],barcode_cells)\n",
    "achilles_merged=achilles_merged[fil]\n",
    "fil=np.in1d(sig_info['Barcode_Cell'],barcode_cells)\n",
    "sig_info=sig_info[fil]\n",
    "#add shrna abundance to sig_info\n",
    "achilles_merged.index=achilles_merged['Barcode_Cell']\n",
    "sig_info['shRNA_abundance']=achilles_merged.loc[sig_info['Barcode_Cell'].values,\n",
    "                                                'shRNA_abundance'].values"
   ]
  },
  {
   "cell_type": "code",
   "execution_count": 5,
   "metadata": {
    "collapsed": false,
    "deletable": true,
    "editable": true
   },
   "outputs": [],
   "source": [
    "#read signautres\n",
    "sig_ids=list(sig_info['sig_id'])\n",
    "gene_info=pd.read_table('../data/LINCS/GSE92742/GSE92742_Broad_LINCS_gene_info.txt',sep='\\t')\n",
    "fil=gene_info['pr_is_lm']==1 # change the columns name to pr_is_bing if you are interested for all genes\n",
    "gene_ids = list(gene_info.loc[gene_info.index[fil],'pr_gene_id'].astype(str))\n",
    "signatures=parse('../data/LINCS/GSE92742/GSE92742_Broad_LINCS_Level5_COMPZ.MODZ_n473647x12328.gctx', \n",
    "                 cid=sig_ids,rid=gene_ids)\n",
    "signatures=signatures.data_df.T\n",
    "sig_info.index=sig_info['sig_id'].values\n",
    "sig_info=sig_info.loc[signatures.index]\n",
    "sig_info.to_csv('../results/Achilles/sig_info_gse92742_lm.csv',sep=',')\n",
    "signatures.to_csv('../results/Achilles/signatures_gse92742_lm.csv',sep=',')"
   ]
  },
  {
   "cell_type": "code",
   "execution_count": 109,
   "metadata": {
    "collapsed": false,
    "deletable": true,
    "editable": true
   },
   "outputs": [
    {
     "name": "stderr",
     "output_type": "stream",
     "text": [
      "/Users/benceszalai/Library/Enthought/Canopy/edm/envs/DeepLearningStart/lib/python3.5/site-packages/ipykernel/__main__.py:2: FutureWarning: read_table is deprecated, use read_csv instead.\n",
      "  from ipykernel import kernelapp as app\n",
      "/Users/benceszalai/Library/Enthought/Canopy/edm/envs/DeepLearningStart/lib/python3.5/site-packages/ipykernel/__main__.py:4: FutureWarning: read_table is deprecated, use read_csv instead.\n"
     ]
    }
   ],
   "source": [
    "sig_info=pd.read_table('../results/Achilles/sig_info_gse92742_lm.csv',sep=',',\n",
    "                      header=0,index_col=[0])\n",
    "signatures=pd.read_table('../results/Achilles/signatures_gse92742_lm.csv',sep=',',\n",
    "                        header=0,index_col=[0])"
   ]
  },
  {
   "cell_type": "code",
   "execution_count": 110,
   "metadata": {
    "collapsed": false,
    "deletable": true,
    "editable": true
   },
   "outputs": [
    {
     "name": "stderr",
     "output_type": "stream",
     "text": [
      "/Users/benceszalai/Library/Enthought/Canopy/edm/envs/DeepLearningStart/lib/python3.5/site-packages/ipykernel/__main__.py:1: FutureWarning: read_table is deprecated, use read_csv instead.\n",
      "  if __name__ == '__main__':\n"
     ]
    }
   ],
   "source": [
    "gene_info=pd.read_table('../data/LINCS/GSE92742/GSE92742_Broad_LINCS_gene_info.txt',sep='\\t')\n",
    "fil=gene_info['pr_is_lm']==1\n",
    "LM_GENES = list(gene_info.loc[gene_info.index[fil],'pr_gene_id'].astype(str))\n",
    "signatures[['pert_id','cell_id','pert_itime']]=sig_info[['pert_id','cell_id','pert_itime']]\n",
    "signatures=signatures.groupby(['pert_id','cell_id','pert_itime']).apply(calc_MODZ)"
   ]
  },
  {
   "cell_type": "code",
   "execution_count": 113,
   "metadata": {
    "collapsed": false,
    "deletable": true,
    "editable": true
   },
   "outputs": [
    {
     "data": {
      "text/html": [
       "<div>\n",
       "<style scoped>\n",
       "    .dataframe tbody tr th:only-of-type {\n",
       "        vertical-align: middle;\n",
       "    }\n",
       "\n",
       "    .dataframe tbody tr th {\n",
       "        vertical-align: top;\n",
       "    }\n",
       "\n",
       "    .dataframe thead th {\n",
       "        text-align: right;\n",
       "    }\n",
       "</style>\n",
       "<table border=\"1\" class=\"dataframe\">\n",
       "  <thead>\n",
       "    <tr style=\"text-align: right;\">\n",
       "      <th></th>\n",
       "      <th>780</th>\n",
       "      <th>7849</th>\n",
       "      <th>6193</th>\n",
       "      <th>23</th>\n",
       "      <th>9552</th>\n",
       "      <th>387</th>\n",
       "      <th>10921</th>\n",
       "      <th>10285</th>\n",
       "      <th>533</th>\n",
       "      <th>6194</th>\n",
       "      <th>...</th>\n",
       "      <th>54681</th>\n",
       "      <th>11000</th>\n",
       "      <th>6915</th>\n",
       "      <th>6253</th>\n",
       "      <th>7264</th>\n",
       "      <th>5467</th>\n",
       "      <th>2767</th>\n",
       "      <th>23038</th>\n",
       "      <th>57048</th>\n",
       "      <th>79716</th>\n",
       "    </tr>\n",
       "    <tr>\n",
       "      <th>cid</th>\n",
       "      <th></th>\n",
       "      <th></th>\n",
       "      <th></th>\n",
       "      <th></th>\n",
       "      <th></th>\n",
       "      <th></th>\n",
       "      <th></th>\n",
       "      <th></th>\n",
       "      <th></th>\n",
       "      <th></th>\n",
       "      <th></th>\n",
       "      <th></th>\n",
       "      <th></th>\n",
       "      <th></th>\n",
       "      <th></th>\n",
       "      <th></th>\n",
       "      <th></th>\n",
       "      <th></th>\n",
       "      <th></th>\n",
       "      <th></th>\n",
       "      <th></th>\n",
       "    </tr>\n",
       "  </thead>\n",
       "  <tbody>\n",
       "    <tr>\n",
       "      <th>KDD003_A549_96H:TRCN0000000011:-666</th>\n",
       "      <td>0.837717</td>\n",
       "      <td>0.229930</td>\n",
       "      <td>0.810059</td>\n",
       "      <td>-0.444160</td>\n",
       "      <td>0.170612</td>\n",
       "      <td>0.567034</td>\n",
       "      <td>-0.160392</td>\n",
       "      <td>-1.220103</td>\n",
       "      <td>-0.286552</td>\n",
       "      <td>-0.002845</td>\n",
       "      <td>...</td>\n",
       "      <td>-0.214185</td>\n",
       "      <td>-0.016037</td>\n",
       "      <td>0.058926</td>\n",
       "      <td>-0.862933</td>\n",
       "      <td>1.710806</td>\n",
       "      <td>0.745072</td>\n",
       "      <td>0.106293</td>\n",
       "      <td>0.787529</td>\n",
       "      <td>1.449159</td>\n",
       "      <td>0.509378</td>\n",
       "    </tr>\n",
       "    <tr>\n",
       "      <th>KDD003_HCC515_96H:TRCN0000000011:-666</th>\n",
       "      <td>0.604000</td>\n",
       "      <td>-0.711950</td>\n",
       "      <td>2.608300</td>\n",
       "      <td>0.296400</td>\n",
       "      <td>-0.563700</td>\n",
       "      <td>-0.173700</td>\n",
       "      <td>1.188200</td>\n",
       "      <td>-0.824050</td>\n",
       "      <td>-0.810750</td>\n",
       "      <td>0.000000</td>\n",
       "      <td>...</td>\n",
       "      <td>0.520000</td>\n",
       "      <td>-0.121000</td>\n",
       "      <td>-0.823200</td>\n",
       "      <td>0.035450</td>\n",
       "      <td>0.628850</td>\n",
       "      <td>0.133400</td>\n",
       "      <td>0.251550</td>\n",
       "      <td>-0.308250</td>\n",
       "      <td>-0.090550</td>\n",
       "      <td>-0.072250</td>\n",
       "    </tr>\n",
       "    <tr>\n",
       "      <th>KDD003_HT29_96H:TRCN0000000011:-666</th>\n",
       "      <td>-0.164350</td>\n",
       "      <td>-0.788850</td>\n",
       "      <td>1.310200</td>\n",
       "      <td>0.596000</td>\n",
       "      <td>1.086500</td>\n",
       "      <td>2.156700</td>\n",
       "      <td>0.523000</td>\n",
       "      <td>-3.381600</td>\n",
       "      <td>-2.412700</td>\n",
       "      <td>0.000000</td>\n",
       "      <td>...</td>\n",
       "      <td>-0.185800</td>\n",
       "      <td>0.323900</td>\n",
       "      <td>3.857850</td>\n",
       "      <td>0.286200</td>\n",
       "      <td>-0.187350</td>\n",
       "      <td>-0.573700</td>\n",
       "      <td>1.481650</td>\n",
       "      <td>0.013750</td>\n",
       "      <td>-1.216650</td>\n",
       "      <td>0.704100</td>\n",
       "    </tr>\n",
       "    <tr>\n",
       "      <th>KDD003_MCF7_96H:TRCN0000000011:-666</th>\n",
       "      <td>0.655896</td>\n",
       "      <td>-0.370896</td>\n",
       "      <td>0.654760</td>\n",
       "      <td>0.467305</td>\n",
       "      <td>-0.795637</td>\n",
       "      <td>0.116167</td>\n",
       "      <td>1.083438</td>\n",
       "      <td>-0.403488</td>\n",
       "      <td>0.248501</td>\n",
       "      <td>0.210375</td>\n",
       "      <td>...</td>\n",
       "      <td>0.717850</td>\n",
       "      <td>0.752322</td>\n",
       "      <td>-1.017231</td>\n",
       "      <td>-0.909209</td>\n",
       "      <td>1.928901</td>\n",
       "      <td>0.813918</td>\n",
       "      <td>1.622391</td>\n",
       "      <td>1.430153</td>\n",
       "      <td>-0.123830</td>\n",
       "      <td>1.335271</td>\n",
       "    </tr>\n",
       "    <tr>\n",
       "      <th>KDD003_PC3_96H:TRCN0000000011:-666</th>\n",
       "      <td>0.899881</td>\n",
       "      <td>-0.552286</td>\n",
       "      <td>-0.295795</td>\n",
       "      <td>0.487287</td>\n",
       "      <td>-0.478602</td>\n",
       "      <td>-0.985538</td>\n",
       "      <td>0.582110</td>\n",
       "      <td>-0.282072</td>\n",
       "      <td>0.690723</td>\n",
       "      <td>1.867573</td>\n",
       "      <td>...</td>\n",
       "      <td>0.784905</td>\n",
       "      <td>0.252051</td>\n",
       "      <td>0.051223</td>\n",
       "      <td>-0.230011</td>\n",
       "      <td>0.494382</td>\n",
       "      <td>-1.002934</td>\n",
       "      <td>1.096575</td>\n",
       "      <td>-0.233879</td>\n",
       "      <td>1.086871</td>\n",
       "      <td>-1.142171</td>\n",
       "    </tr>\n",
       "  </tbody>\n",
       "</table>\n",
       "<p>5 rows × 978 columns</p>\n",
       "</div>"
      ],
      "text/plain": [
       "                                            780      7849      6193        23  \\\n",
       "cid                                                                             \n",
       "KDD003_A549_96H:TRCN0000000011:-666    0.837717  0.229930  0.810059 -0.444160   \n",
       "KDD003_HCC515_96H:TRCN0000000011:-666  0.604000 -0.711950  2.608300  0.296400   \n",
       "KDD003_HT29_96H:TRCN0000000011:-666   -0.164350 -0.788850  1.310200  0.596000   \n",
       "KDD003_MCF7_96H:TRCN0000000011:-666    0.655896 -0.370896  0.654760  0.467305   \n",
       "KDD003_PC3_96H:TRCN0000000011:-666     0.899881 -0.552286 -0.295795  0.487287   \n",
       "\n",
       "                                           9552       387     10921     10285  \\\n",
       "cid                                                                             \n",
       "KDD003_A549_96H:TRCN0000000011:-666    0.170612  0.567034 -0.160392 -1.220103   \n",
       "KDD003_HCC515_96H:TRCN0000000011:-666 -0.563700 -0.173700  1.188200 -0.824050   \n",
       "KDD003_HT29_96H:TRCN0000000011:-666    1.086500  2.156700  0.523000 -3.381600   \n",
       "KDD003_MCF7_96H:TRCN0000000011:-666   -0.795637  0.116167  1.083438 -0.403488   \n",
       "KDD003_PC3_96H:TRCN0000000011:-666    -0.478602 -0.985538  0.582110 -0.282072   \n",
       "\n",
       "                                            533      6194  ...     54681  \\\n",
       "cid                                                        ...             \n",
       "KDD003_A549_96H:TRCN0000000011:-666   -0.286552 -0.002845  ... -0.214185   \n",
       "KDD003_HCC515_96H:TRCN0000000011:-666 -0.810750  0.000000  ...  0.520000   \n",
       "KDD003_HT29_96H:TRCN0000000011:-666   -2.412700  0.000000  ... -0.185800   \n",
       "KDD003_MCF7_96H:TRCN0000000011:-666    0.248501  0.210375  ...  0.717850   \n",
       "KDD003_PC3_96H:TRCN0000000011:-666     0.690723  1.867573  ...  0.784905   \n",
       "\n",
       "                                          11000      6915      6253      7264  \\\n",
       "cid                                                                             \n",
       "KDD003_A549_96H:TRCN0000000011:-666   -0.016037  0.058926 -0.862933  1.710806   \n",
       "KDD003_HCC515_96H:TRCN0000000011:-666 -0.121000 -0.823200  0.035450  0.628850   \n",
       "KDD003_HT29_96H:TRCN0000000011:-666    0.323900  3.857850  0.286200 -0.187350   \n",
       "KDD003_MCF7_96H:TRCN0000000011:-666    0.752322 -1.017231 -0.909209  1.928901   \n",
       "KDD003_PC3_96H:TRCN0000000011:-666     0.252051  0.051223 -0.230011  0.494382   \n",
       "\n",
       "                                           5467      2767     23038     57048  \\\n",
       "cid                                                                             \n",
       "KDD003_A549_96H:TRCN0000000011:-666    0.745072  0.106293  0.787529  1.449159   \n",
       "KDD003_HCC515_96H:TRCN0000000011:-666  0.133400  0.251550 -0.308250 -0.090550   \n",
       "KDD003_HT29_96H:TRCN0000000011:-666   -0.573700  1.481650  0.013750 -1.216650   \n",
       "KDD003_MCF7_96H:TRCN0000000011:-666    0.813918  1.622391  1.430153 -0.123830   \n",
       "KDD003_PC3_96H:TRCN0000000011:-666    -1.002934  1.096575 -0.233879  1.086871   \n",
       "\n",
       "                                          79716  \n",
       "cid                                              \n",
       "KDD003_A549_96H:TRCN0000000011:-666    0.509378  \n",
       "KDD003_HCC515_96H:TRCN0000000011:-666 -0.072250  \n",
       "KDD003_HT29_96H:TRCN0000000011:-666    0.704100  \n",
       "KDD003_MCF7_96H:TRCN0000000011:-666    1.335271  \n",
       "KDD003_PC3_96H:TRCN0000000011:-666    -1.142171  \n",
       "\n",
       "[5 rows x 978 columns]"
      ]
     },
     "execution_count": 113,
     "metadata": {},
     "output_type": "execute_result"
    }
   ],
   "source": [
    "signatures.head()"
   ]
  },
  {
   "cell_type": "code",
   "execution_count": 13,
   "metadata": {
    "collapsed": false,
    "deletable": true,
    "editable": true
   },
   "outputs": [],
   "source": [
    "sig_info=sig_info.drop_duplicates(['pert_id','cell_id','pert_itime'])\n",
    "sig_info=sig_info.sort_values(['pert_id','cell_id','pert_itime'])\n",
    "signatures.index=sig_info.index\n",
    "signatures.to_csv('../results/Achilles/signatures_merged_lm.csv',sep=',')\n",
    "sig_info.to_csv('../results/Achilles/sig_info_merged_lm.csv',sep=',')"
   ]
  },
  {
   "cell_type": "markdown",
   "metadata": {
    "deletable": true,
    "editable": true
   },
   "source": [
    "We are done with Achilles preprocessing!"
   ]
  },
  {
   "cell_type": "markdown",
   "metadata": {
    "deletable": true,
    "editable": true
   },
   "source": [
    "Later we will need CTRP dose response curve data (AUC and EC50 values) from CTRP dataset, we will preprocess them now too."
   ]
  },
  {
   "cell_type": "code",
   "execution_count": 5,
   "metadata": {
    "collapsed": true,
    "deletable": true,
    "editable": true
   },
   "outputs": [],
   "source": [
    "# read raw CTRP cell viability data\n",
    "ctrp_curves=pd.read_table('../data/CTRP/v20.data.curves_post_qc.txt',\n",
    "                       sep='\\t',header=0,index_col=None)\n",
    "#read CTRP metadata\n",
    "cell_info=pd.read_table('../data/CTRP/v20.meta.per_cell_line.txt',\n",
    "                        sep='\\t',header=0,index_col=None)\n",
    "compound_info=pd.read_table('../data/CTRP/v20.meta.per_compound.txt',\n",
    "                            sep='\\t',header=0,index_col=None)\n",
    "experiment_info=pd.read_table('../data/CTRP/v20.meta.per_experiment.txt',\n",
    "                              sep='\\t',header=0,index_col=None)"
   ]
  },
  {
   "cell_type": "code",
   "execution_count": 6,
   "metadata": {
    "collapsed": false,
    "deletable": true,
    "editable": true
   },
   "outputs": [],
   "source": [
    "#using information from metadata we prepocess CTRP data\n",
    "#to have usable format to match with LINCS\n",
    "ctrp_proc=ctrp_curves.loc[:,['experiment_id','master_cpd_id','pred_pv_high_conc',\n",
    "                          'apparent_ec50_umol','area_under_curve']].copy()\n",
    "experiment_info=experiment_info.drop_duplicates(['experiment_id',\n",
    "                                                 'master_ccl_id'])\n",
    "experiment_info.index=experiment_info['experiment_id']\n",
    "ctrp_proc['master_ccl_id']=experiment_info.loc[ctrp_proc['experiment_id'].values,\n",
    "                                               'master_ccl_id'].values\n",
    "cell_info.index=cell_info['master_ccl_id']\n",
    "ctrp_proc['ccl_name']=cell_info.loc[ctrp_proc['master_ccl_id'].values,\n",
    "                                    'ccl_name'].values\n",
    "compound_info.index=compound_info['master_cpd_id']\n",
    "ctrp_proc['broad_cpd_id']=compound_info.loc[ctrp_proc['master_cpd_id'].values,\n",
    "                                            'broad_cpd_id'].values\n",
    "ctrp_proc=ctrp_proc.loc[:,['ccl_name','broad_cpd_id','pred_pv_high_conc',\n",
    "                           'apparent_ec50_umol','area_under_curve']]\n",
    "ctrp_proc.to_csv('../results/CTRP/ctrp_DR.csv',sep=',')"
   ]
  }
 ],
 "metadata": {
  "kernelspec": {
   "display_name": "Python 3",
   "language": "python",
   "name": "python3"
  },
  "language_info": {
   "codemirror_mode": {
    "name": "ipython",
    "version": 3
   },
   "file_extension": ".py",
   "mimetype": "text/x-python",
   "name": "python",
   "nbconvert_exporter": "python",
   "pygments_lexer": "ipython3",
   "version": "3.5.2"
  }
 },
 "nbformat": 4,
 "nbformat_minor": 2
}
